{
  "nbformat": 4,
  "nbformat_minor": 0,
  "metadata": {
    "colab": {
      "provenance": []
    },
    "kernelspec": {
      "name": "python3",
      "display_name": "Python 3"
    },
    "language_info": {
      "name": "python"
    }
  },
  "cells": [
    {
      "cell_type": "code",
      "execution_count": null,
      "metadata": {
        "id": "vsjFnb-KHcqU"
      },
      "outputs": [],
      "source": [
        "1 . What are data structure, and why are they important ?\n",
        "\n",
        ". Data Structure are the way of organising and storing data in aproper manner so that it can be easily accessible. These are like container that stores data in aspecific format. They are important because they provide efficient management of data optimize the performance.\n",
        "\n",
        "2 . Explain the difference between mutable and immutable data types with example.\n",
        "\n",
        ". Mutable data types can be change after the execution of the code, ex- we can change the values in the list even after the list is executed, while in immutable data types we cannot change the value we have to create a new object with updated value.\n",
        "\n",
        "3 . What are the main differences between lists and tuples in python ?\n",
        "\n",
        ". The main differences is that lists are mutable i.e. the value written inside a list can be changed and tuples are immutable i.e. the values inside tuples cannot be change.\n",
        "\n",
        "4. Describe how dictionaries store data.\n",
        "\n",
        ". Dictionaries consist of akey and its value, inside the dictionary has its own unique key assigned which stores the data, these key also act as an index for that value.\n",
        "\n",
        "5. Why might you use a set instead of a list in python ?\n",
        "\n",
        ". We can use sets if we have to store a collection of unique data, as sets don't stores duplicate data, while alist stores a every data which is written inside it.\n",
        "\n",
        "6. What is a string in python , and how is it different from alist ?\n",
        "\n",
        ". String in python are sequence of character which represent textual data. It is an immutable data type means it cannot be changed.The main difference between string and list is that list are mutable and contains variety of data type.\n",
        "\n",
        "7. How do tuples ensure data integrity in python ?\n",
        "\n",
        ". Tuples in python are immutable which ensures the integrity of the data . Once a tuple is created the element inside it cannot be changed, add or remove. This immutability guarantee that the element of the tuple stays constant.\n",
        "\n",
        "8. What is a hash table, and how does it relate to dictionaries in python ?\n",
        "\n",
        ". A hash table is a data structure that implements an associative array, allowing efficient storage and retrival of key-value pair. When we uses a dictionary , python hashes the key to determine where to store and look up the corresponding value.\n",
        "\n",
        "9. Can lists contain different data types in python ?\n",
        "\n",
        ". Yes , lists can contain different data types like strings, integerd,floas, boolean, etc.\n",
        "\n",
        "10 . Explain why strings are immutable in python ?\n",
        "\n",
        ". Strings in python are immutable to enhance the efficiency by allowing multiple refrences to the same string. it also simplifies programming by ensuring that the string's value remains constant once created.\n",
        "\n",
        "11 . What advantages do dictionaries offer over lists for certain tasks ?\n",
        "\n",
        ". Dictionaries uses key and value to store the data, each value is assigned a unique key and these key are also used as an index for the value . So in case if we have to search the information we can simply write the indentifier instead the position in order to get the info.\n",
        "\n",
        "12. Describe a scenario where using a tuple would be preferable over a lsit ?\n",
        "\n",
        ". Tuples would be more preferable in asituation where we have to represent a fixed collection of data which are not going to be changed. Because tuples are immutable.\n",
        "\n",
        "13. How do sets handle duplicate values in python ?\n",
        "\n",
        ". Sets handle duplicate values by automatically discarding the element which is already present. if we add an exact same element which is already present in the set it will not affect the set and it'll reamins the same and the duplicate value will not be executed.\n",
        "\n",
        "14. How does the \"in\" keyword work differently for lists and dictionaries ?\n",
        "\n",
        ". \"in\" keyword in list checks if the specific value is present in the list,python iterates through list comparing each element to the value. While the \"in\" keyword in dictionary checks if the value exist as an key in the dictionary.\n",
        "\n",
        "15. Can you modify the element of a tuple? Explain why or why not ?\n",
        "\n",
        ". No, we cannot modify the element of a tuple because tuples are immutable means the elements inside it cannot be changes.This immutability enaures the integrity and efficiency of the data.\n",
        "\n",
        "16. What is a nested dictionary , and give an example of its use case ?\n",
        "\n",
        ". A dictionary inside a dictionar is known as nested dictionary. Ex - student_dict = {'s1':{'Name':'Piyudh''Marks':200},'S2':{Name':'Aman''Marks':200}}\n",
        "\n",
        "17. Describe the time complexity of accessing elements in a dictionary ?\n",
        "\n",
        ".  The time complexity of accessing element in a dictionary is on average, 0(1) which is constant. Python dictionaries are implement using hash table. when you want to access a value using its key, python calculates the hash of the key and directly jumps to the memory location where the key-value pair is stored.\n",
        "\n",
        "18. In what situations are lists preferred over dictionaries ?\n",
        "\n",
        ". List is preferred over a dictionary whwn the order od elements is important and you need to access the element by their index number.\n",
        "\n",
        "19. Why are dictionaries considered unordered, and how does that affect data retrieval ?\n",
        "\n",
        ". Dictionaries are considered unordered because they do not maintain the order in which they are inserted when we access the items the order of dictionaries may very. If we nned to retrive the data we can't rely on the order they have inserted.\n",
        "\n",
        "20. Explain the difference between a list and a dictionary in terms of data retrieval.\n",
        "\n",
        ". In list we have to use the index number in order to retrive the data, while in dictionaries the data is retrived by using their unique key."
      ]
    },
    {
      "cell_type": "code",
      "source": [
        "# Write a code to create a string with your name and print it.\n",
        "\n",
        "str = (\"piyush\")\n",
        "print(str)\n"
      ],
      "metadata": {
        "colab": {
          "base_uri": "https://localhost:8080/"
        },
        "id": "MTfiWYrI2BB-",
        "outputId": "1c481213-adec-4860-aa09-d1698d6566f3"
      },
      "execution_count": null,
      "outputs": [
        {
          "output_type": "stream",
          "name": "stdout",
          "text": [
            "piyush\n"
          ]
        }
      ]
    },
    {
      "cell_type": "code",
      "source": [
        "# Write a code to find the length of the string \"HELLO WORLD\".\n",
        "\n",
        "str = (\"HELLO WORLD\")\n",
        "len(str)"
      ],
      "metadata": {
        "colab": {
          "base_uri": "https://localhost:8080/"
        },
        "id": "X4CYPq173X74",
        "outputId": "3619d955-5b68-4114-c0d3-dcd38d3f860c"
      },
      "execution_count": null,
      "outputs": [
        {
          "output_type": "execute_result",
          "data": {
            "text/plain": [
              "11"
            ]
          },
          "metadata": {},
          "execution_count": 5
        }
      ]
    },
    {
      "cell_type": "code",
      "source": [
        "# Write a code to slice the first 3 characters from the string \"Python Programming\".\n",
        "\n",
        "str = (\"Python Programming\")\n",
        "str[0:3]\n",
        "\n"
      ],
      "metadata": {
        "id": "1zvEmXeo3_CV",
        "colab": {
          "base_uri": "https://localhost:8080/",
          "height": 36
        },
        "outputId": "071aeec5-b4fe-48b7-846b-63a052c0dd72"
      },
      "execution_count": null,
      "outputs": [
        {
          "output_type": "execute_result",
          "data": {
            "text/plain": [
              "'Pyt'"
            ],
            "application/vnd.google.colaboratory.intrinsic+json": {
              "type": "string"
            }
          },
          "metadata": {},
          "execution_count": 6
        }
      ]
    },
    {
      "cell_type": "code",
      "source": [
        "# Write a code to convert the string \"hello\" to uppercase.\n",
        "\n",
        "str = (\"hello\")\n",
        "str.upper()"
      ],
      "metadata": {
        "colab": {
          "base_uri": "https://localhost:8080/",
          "height": 36
        },
        "id": "HcmrmolJ8oIu",
        "outputId": "ba96e003-eaba-42a6-84a0-9c4f71a50e49"
      },
      "execution_count": null,
      "outputs": [
        {
          "output_type": "execute_result",
          "data": {
            "text/plain": [
              "'HELLO'"
            ],
            "application/vnd.google.colaboratory.intrinsic+json": {
              "type": "string"
            }
          },
          "metadata": {},
          "execution_count": 7
        }
      ]
    },
    {
      "cell_type": "code",
      "source": [
        "\n",
        "# Write a code to replace the word \"apple\" with \"orange\" in the string \"I like apple\".\n",
        "\n",
        "str = (\"I like apple\")\n",
        "str.replace(\"apple\",\"orange\")"
      ],
      "metadata": {
        "colab": {
          "base_uri": "https://localhost:8080/",
          "height": 36
        },
        "id": "Yylb3n-7-I54",
        "outputId": "9370c7c4-d029-4ba0-953f-557dbab2e527"
      },
      "execution_count": null,
      "outputs": [
        {
          "output_type": "execute_result",
          "data": {
            "text/plain": [
              "'I like orange'"
            ],
            "application/vnd.google.colaboratory.intrinsic+json": {
              "type": "string"
            }
          },
          "metadata": {},
          "execution_count": 12
        }
      ]
    },
    {
      "cell_type": "code",
      "source": [
        "# Write a code to create a list with numbers 1 to 5 and print it.\n",
        "str = ([1,2,3,4,5])\n",
        "print(str)"
      ],
      "metadata": {
        "colab": {
          "base_uri": "https://localhost:8080/"
        },
        "id": "XX820yyG_lm_",
        "outputId": "dd341276-195f-4fc1-b96e-73b7e160eac6"
      },
      "execution_count": null,
      "outputs": [
        {
          "output_type": "stream",
          "name": "stdout",
          "text": [
            "[1, 2, 3, 4, 5]\n"
          ]
        }
      ]
    },
    {
      "cell_type": "code",
      "source": [
        "# Write a code to append the number 10 to the list [1,2,3,4].\n",
        "\n",
        "str = ([1,2,3,4])\n",
        "str.append(10)\n",
        "print(str)"
      ],
      "metadata": {
        "colab": {
          "base_uri": "https://localhost:8080/"
        },
        "id": "yv7Gm0HWAiiu",
        "outputId": "4f2b044d-13eb-4d6e-8390-0a8c01f7be24"
      },
      "execution_count": null,
      "outputs": [
        {
          "output_type": "stream",
          "name": "stdout",
          "text": [
            "[1, 2, 3, 4, 10]\n"
          ]
        }
      ]
    },
    {
      "cell_type": "code",
      "source": [
        "# Write a code to remove the number 3 from the list [1,2,3,4,5].\n",
        "str = ([1,2,3,4,5])\n",
        "str.remove(3)\n",
        "print(str)"
      ],
      "metadata": {
        "colab": {
          "base_uri": "https://localhost:8080/"
        },
        "id": "5Yia55EyBygR",
        "outputId": "49792bcb-5b79-4199-8f57-d410aac0f590"
      },
      "execution_count": null,
      "outputs": [
        {
          "output_type": "stream",
          "name": "stdout",
          "text": [
            "[1, 2, 4, 5]\n"
          ]
        }
      ]
    },
    {
      "cell_type": "code",
      "source": [
        "# Write a code to access the second element in the list['a','b','c','d'].\n",
        "\n",
        "my_list = ['a', 'b' , 'c', 'd']\n",
        "print(my_list[1])\n"
      ],
      "metadata": {
        "colab": {
          "base_uri": "https://localhost:8080/"
        },
        "id": "qBxb6xDlCUPY",
        "outputId": "116c8a12-19b5-487f-e2ac-6b9b9af20ae7"
      },
      "execution_count": null,
      "outputs": [
        {
          "output_type": "stream",
          "name": "stdout",
          "text": [
            "b\n"
          ]
        }
      ]
    },
    {
      "cell_type": "code",
      "source": [
        "# Write a code to reverse the list [10,20,30,40,50].\n",
        "\n",
        "my_list = [10,20,30,40,50]\n",
        "my_list.reverse()\n",
        "print(my_list)"
      ],
      "metadata": {
        "colab": {
          "base_uri": "https://localhost:8080/"
        },
        "id": "7LfJrkCtERiU",
        "outputId": "d175a318-011d-42e4-f141-a1cb67a199cc"
      },
      "execution_count": null,
      "outputs": [
        {
          "output_type": "stream",
          "name": "stdout",
          "text": [
            "[50, 40, 30, 20, 10]\n"
          ]
        }
      ]
    },
    {
      "cell_type": "code",
      "source": [
        "# Write a code to create a tuple with the elements 100,200,300 and print it.\n",
        "\n",
        "my_tuple = (100,200,300)\n",
        "print(my_tuple)"
      ],
      "metadata": {
        "colab": {
          "base_uri": "https://localhost:8080/"
        },
        "id": "Mxa-PuliFC7t",
        "outputId": "527900c3-2a36-46d4-95f1-7615f3054db3"
      },
      "execution_count": null,
      "outputs": [
        {
          "output_type": "stream",
          "name": "stdout",
          "text": [
            "(100, 200, 300)\n"
          ]
        }
      ]
    },
    {
      "cell_type": "code",
      "source": [
        "# Write a code to access the second-to-last element of the tuple('red','green','blue','yellow').\n",
        "tuple =('red','green','blue','yellow')\n",
        "tuple[1:3]"
      ],
      "metadata": {
        "colab": {
          "base_uri": "https://localhost:8080/"
        },
        "id": "_05f0VXHF1mM",
        "outputId": "6431d032-22b2-4da2-a50c-481e24136d77"
      },
      "execution_count": null,
      "outputs": [
        {
          "output_type": "execute_result",
          "data": {
            "text/plain": [
              "('green', 'blue')"
            ]
          },
          "metadata": {},
          "execution_count": 33
        }
      ]
    },
    {
      "cell_type": "code",
      "source": [
        "# Write a code to find the minimum number in the tuple (10,20,5,15)\n",
        "\n",
        "tuple = (10,20,5,15)\n",
        "min(tuple)"
      ],
      "metadata": {
        "colab": {
          "base_uri": "https://localhost:8080/"
        },
        "id": "OAF55mNIHgsV",
        "outputId": "af5cc0c0-e33e-421f-a4ff-d4a3032ccc39"
      },
      "execution_count": null,
      "outputs": [
        {
          "output_type": "execute_result",
          "data": {
            "text/plain": [
              "5"
            ]
          },
          "metadata": {},
          "execution_count": 34
        }
      ]
    },
    {
      "cell_type": "code",
      "source": [
        "# Write a code to find the index of the element \"cat\" in the tuple ('dog','cat','rabbit')\n",
        "tuple = ('dog','cat','rabbit')\n",
        "tuple.index('cat')"
      ],
      "metadata": {
        "colab": {
          "base_uri": "https://localhost:8080/"
        },
        "id": "8QrFUVmyH_s6",
        "outputId": "360a165d-55b2-4696-f040-78768cebd4f4"
      },
      "execution_count": null,
      "outputs": [
        {
          "output_type": "execute_result",
          "data": {
            "text/plain": [
              "1"
            ]
          },
          "metadata": {},
          "execution_count": 36
        }
      ]
    },
    {
      "cell_type": "code",
      "source": [
        "# Write a code to create a tuple containing three different fruits and check if \"kiwi\" is in it.\n",
        "\n",
        "tuple = ('apple','banana','kiwi')\n",
        "'kiwi' in tuple\n",
        "\n"
      ],
      "metadata": {
        "colab": {
          "base_uri": "https://localhost:8080/"
        },
        "id": "uKpCrzwUIivX",
        "outputId": "692ea6d4-5fa8-4b71-f6bd-2ddb5542f650"
      },
      "execution_count": null,
      "outputs": [
        {
          "output_type": "execute_result",
          "data": {
            "text/plain": [
              "True"
            ]
          },
          "metadata": {},
          "execution_count": 37
        }
      ]
    },
    {
      "cell_type": "code",
      "source": [
        "# Write a code to create a set with the elements 'a','b','c' and print it.\n",
        "\n",
        "set = {'a','b','c'}\n",
        "print(set)"
      ],
      "metadata": {
        "colab": {
          "base_uri": "https://localhost:8080/"
        },
        "id": "HrWnT1wWJxmb",
        "outputId": "781a9dff-6f91-4447-c575-a96fcdc750dd"
      },
      "execution_count": null,
      "outputs": [
        {
          "output_type": "stream",
          "name": "stdout",
          "text": [
            "{'a', 'b', 'c'}\n"
          ]
        }
      ]
    },
    {
      "cell_type": "code",
      "source": [
        "# Write a code to clear all elements from the set {1,2,3,4,5}.\n",
        "set = {1,2,3,4,5}\n",
        "set.clear()\n",
        "print(set)\n",
        "\n"
      ],
      "metadata": {
        "colab": {
          "base_uri": "https://localhost:8080/"
        },
        "id": "QyEzsNXhNhf9",
        "outputId": "774267c6-e1c6-4c0f-daaa-04bb90ed3d78"
      },
      "execution_count": null,
      "outputs": [
        {
          "output_type": "stream",
          "name": "stdout",
          "text": [
            "set()\n"
          ]
        }
      ]
    },
    {
      "cell_type": "code",
      "source": [
        "# Write a code to remove the element 4 from the set {1,2,3,4}.\n",
        "set = {1,2,3,4}\n",
        "set.remove(4)\n",
        "print(set)"
      ],
      "metadata": {
        "colab": {
          "base_uri": "https://localhost:8080/"
        },
        "id": "kh0v1WT8Oc91",
        "outputId": "ddae4b9a-e3af-43b8-e869-304c337be100"
      },
      "execution_count": null,
      "outputs": [
        {
          "output_type": "stream",
          "name": "stdout",
          "text": [
            "{1, 2, 3}\n"
          ]
        }
      ]
    },
    {
      "cell_type": "code",
      "source": [
        "# Write a code to find the union of two sets {1,2,3} and {3,4,5}.\n",
        "set1 = {1,2,3}\n",
        "set2 = {3,4,5}\n",
        "set1.union(set2)\n"
      ],
      "metadata": {
        "colab": {
          "base_uri": "https://localhost:8080/"
        },
        "id": "OJ43uEVzPECf",
        "outputId": "125eaa60-584f-44a7-cd0c-79abfbcfdf2f"
      },
      "execution_count": null,
      "outputs": [
        {
          "output_type": "execute_result",
          "data": {
            "text/plain": [
              "{1, 2, 3, 4, 5}"
            ]
          },
          "metadata": {},
          "execution_count": 47
        }
      ]
    },
    {
      "cell_type": "code",
      "source": [
        "# Write a code to find the intersection of two sets{123} and {3,4,5}.\n",
        "set1 = {1,2,3}\n",
        "set2 = {3,4,5}\n",
        "set1.intersection(set2)\n"
      ],
      "metadata": {
        "colab": {
          "base_uri": "https://localhost:8080/"
        },
        "id": "t_1_22qTPeA3",
        "outputId": "309ceefa-d8e2-4c67-8134-edced836464e"
      },
      "execution_count": null,
      "outputs": [
        {
          "output_type": "execute_result",
          "data": {
            "text/plain": [
              "{3}"
            ]
          },
          "metadata": {},
          "execution_count": 48
        }
      ]
    },
    {
      "cell_type": "code",
      "source": [
        "# Write a code to create a dictionary with the keys \"name\",\"age\", and \"city\", and print it.\n",
        "dict = {\"name\":\"piyush\",\"age\":20,\"city\":\"lucknow\"}\n",
        "print(dict)"
      ],
      "metadata": {
        "colab": {
          "base_uri": "https://localhost:8080/"
        },
        "id": "vU6r3skJQApu",
        "outputId": "3de0cc01-c65d-43c5-e829-a1df0ca94b54"
      },
      "execution_count": null,
      "outputs": [
        {
          "output_type": "stream",
          "name": "stdout",
          "text": [
            "{'name': 'piyush', 'age': 20, 'city': 'lucknow'}\n"
          ]
        }
      ]
    },
    {
      "cell_type": "code",
      "source": [
        "# Write a code to add a new key-value pair \"country\":\"USA\" to the dictionary {'name':'alice','age':30}.\n",
        "dict = {'name':'alice','age':30}\n",
        "dict['country'] = 'USA'\n",
        "print(dict)"
      ],
      "metadata": {
        "colab": {
          "base_uri": "https://localhost:8080/"
        },
        "id": "BTZJ2zpYLboE",
        "outputId": "6d78dcd9-088e-4ea2-b0ae-4bd9fac0f983"
      },
      "execution_count": null,
      "outputs": [
        {
          "output_type": "stream",
          "name": "stdout",
          "text": [
            "{'name': 'alice', 'age': 30, 'country': 'USA'}\n"
          ]
        }
      ]
    },
    {
      "cell_type": "code",
      "source": [
        "# Write a code to access the value associated with the key \"name\" in the dictionary {'name':'john','age':25}.\n",
        "dict = {'name':'john','age':25}\n",
        "dict['name']"
      ],
      "metadata": {
        "colab": {
          "base_uri": "https://localhost:8080/",
          "height": 36
        },
        "id": "XZblanDaR862",
        "outputId": "ae977584-f1ef-4b9c-d712-ffe249af6123"
      },
      "execution_count": null,
      "outputs": [
        {
          "output_type": "execute_result",
          "data": {
            "text/plain": [
              "'john'"
            ],
            "application/vnd.google.colaboratory.intrinsic+json": {
              "type": "string"
            }
          },
          "metadata": {},
          "execution_count": 1
        }
      ]
    },
    {
      "cell_type": "code",
      "source": [
        "# Write a code to remove the key \"age\" from the dictionary {'name':'bob','age':22, 'city':'New York'}.\n",
        "dict ={'name':'bob','age':22,'city':'New York'}\n",
        "del dict['age']\n",
        "print(dict)"
      ],
      "metadata": {
        "colab": {
          "base_uri": "https://localhost:8080/"
        },
        "id": "jMYN3efaTFcm",
        "outputId": "48cd71be-ab0d-4d3f-fa7a-3c46261f96ad"
      },
      "execution_count": null,
      "outputs": [
        {
          "output_type": "stream",
          "name": "stdout",
          "text": [
            "{'name': 'bob', 'city': 'New York'}\n"
          ]
        }
      ]
    },
    {
      "cell_type": "code",
      "source": [
        "# Write a code to check if the key \"city\" exists in the dictionary {'name':'alice','city':'paris'}.\n",
        "dict = {'name':'alice','city':'paris'}\n",
        "'city' in dict"
      ],
      "metadata": {
        "colab": {
          "base_uri": "https://localhost:8080/"
        },
        "id": "pzhv_32wUd98",
        "outputId": "2b884894-592b-47e8-ef79-1a5a5cac7e44"
      },
      "execution_count": null,
      "outputs": [
        {
          "output_type": "execute_result",
          "data": {
            "text/plain": [
              "True"
            ]
          },
          "metadata": {},
          "execution_count": 5
        }
      ]
    },
    {
      "cell_type": "code",
      "source": [
        "# Write a code to create a list, a tuple, and a dictionary, and print them all.\n",
        "list = [1,2,3,4]\n",
        "print(list)\n",
        "tuple = (1,2,3,4)\n",
        "print(tuple)\n",
        "dict = {'name':'piyush','age':20}\n",
        "print(dict)\n"
      ],
      "metadata": {
        "colab": {
          "base_uri": "https://localhost:8080/"
        },
        "id": "LVFGNiM5VOJ1",
        "outputId": "427223e2-8b75-4d17-f299-015a18eba59c"
      },
      "execution_count": null,
      "outputs": [
        {
          "output_type": "stream",
          "name": "stdout",
          "text": [
            "[1, 2, 3, 4]\n",
            "(1, 2, 3, 4)\n",
            "{'name': 'piyush', 'age': 20}\n"
          ]
        }
      ]
    },
    {
      "cell_type": "code",
      "source": [
        "#  Write a code to create a list of 5 random numbers between 1 and 100, sort it in ascending order, and print the result.(replaced)\n",
        "import random\n",
        "random_list = [random.randint(1,100) for _ in range(5)]\n",
        "random_list.sort()\n",
        "print(random_list)\n"
      ],
      "metadata": {
        "id": "D0X2g2FyWC0z",
        "colab": {
          "base_uri": "https://localhost:8080/"
        },
        "outputId": "6b68f1c1-0918-4a59-8cc0-0fcaf94aa5a2"
      },
      "execution_count": null,
      "outputs": [
        {
          "output_type": "stream",
          "name": "stdout",
          "text": [
            "[17, 47, 55, 65, 87]\n"
          ]
        }
      ]
    },
    {
      "cell_type": "code",
      "source": [
        "# Write a code to create a list with strings and print the element at the third index.\n",
        "list = ['apple','banana','kiwi']\n",
        "list[2]"
      ],
      "metadata": {
        "colab": {
          "base_uri": "https://localhost:8080/",
          "height": 36
        },
        "id": "CqQh6tmmaBpL",
        "outputId": "6f17a2ce-4f92-4aa2-ed16-f65198b8ae4e"
      },
      "execution_count": null,
      "outputs": [
        {
          "output_type": "execute_result",
          "data": {
            "text/plain": [
              "'kiwi'"
            ],
            "application/vnd.google.colaboratory.intrinsic+json": {
              "type": "string"
            }
          },
          "metadata": {},
          "execution_count": 7
        }
      ]
    },
    {
      "cell_type": "code",
      "source": [
        "# Write a code to combine two dictionaries into one and print the result.\n",
        "dict1 = {'a':1,'b':2}\n",
        "dict2 = {'c':3,'d':4}\n",
        "dict1.update(dict2)\n",
        "print(dict1)"
      ],
      "metadata": {
        "colab": {
          "base_uri": "https://localhost:8080/"
        },
        "id": "l8EakidpaX9A",
        "outputId": "9045fb84-b90b-425f-ecdb-64e47e57c707"
      },
      "execution_count": null,
      "outputs": [
        {
          "output_type": "stream",
          "name": "stdout",
          "text": [
            "{'a': 1, 'b': 2, 'c': 3, 'd': 4}\n"
          ]
        }
      ]
    },
    {
      "cell_type": "code",
      "source": [
        "# Write a code to convert a list of strings into a set.\n",
        "list = ['apple','banana','kiwi']\n",
        "set(list)"
      ],
      "metadata": {
        "colab": {
          "base_uri": "https://localhost:8080/"
        },
        "id": "21t4DpjMaqES",
        "outputId": "2050d476-a510-437b-ccb8-59313621df5d"
      },
      "execution_count": null,
      "outputs": [
        {
          "output_type": "execute_result",
          "data": {
            "text/plain": [
              "{'apple', 'banana', 'kiwi'}"
            ]
          },
          "metadata": {},
          "execution_count": 9
        }
      ]
    }
  ]
}